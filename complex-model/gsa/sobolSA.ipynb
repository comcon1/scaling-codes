{
 "cells": [
  {
   "cell_type": "code",
   "execution_count": 6,
   "metadata": {},
   "outputs": [],
   "source": [
    "import numpy as np\n",
    "import pandas as pd\n",
    "import statsmodels.api as sm\n",
    "import seaborn as sns\n",
    "import matplotlib.pyplot as plt"
   ]
  },
  {
   "cell_type": "markdown",
   "metadata": {},
   "source": [
    "**Define the equilibrium parametric vector**"
   ]
  },
  {
   "cell_type": "code",
   "execution_count": 7,
   "metadata": {},
   "outputs": [],
   "source": [
    "pmin = np.array([0.0009721429046982305, 7.677635472687987e-05, 4.027512174464999, 9.993153827223693, \n",
    " 0.2013241581169894, 5.3418548562315396, 0.0004919783567445465, 4.445817328411718, \n",
    " 3.5485898584484867, 0.0009372137025961741, 0.0003417112284474173, 40.96254014108725, \n",
    " 0.4393515113945223, 1.9580523034135725e-05, 6.857951478821697e-05, 1.5265243421408876])"
   ]
  },
  {
   "cell_type": "markdown",
   "metadata": {},
   "source": [
    "# Sobol sensitivity analysis"
   ]
  },
  {
   "cell_type": "code",
   "execution_count": 8,
   "metadata": {},
   "outputs": [],
   "source": [
    "from SALib.sample import saltelli, latin\n",
    "from SALib.analyze import sobol, delta, rbd_fast\n",
    "from SALib.test_functions import Ishigami"
   ]
  },
  {
   "cell_type": "markdown",
   "metadata": {},
   "source": [
    "**Construct model for utilize the data of random sampling**\n",
    "\n",
    "1. pick 5%-neighborhood of the initial point\n",
    "2. set the density of parametric sampling inside the hypercube"
   ]
  },
  {
   "cell_type": "code",
   "execution_count": 9,
   "metadata": {},
   "outputs": [],
   "source": [
    "percentAround = 5\n",
    "saltelliDeep = 100"
   ]
  },
  {
   "cell_type": "markdown",
   "metadata": {},
   "source": [
    "*Define problem dictionary for SAlib analyzer*"
   ]
  },
  {
   "cell_type": "code",
   "execution_count": 10,
   "metadata": {},
   "outputs": [
    {
     "data": {
      "text/plain": [
       "{'num_vars': 16,\n",
       " 'names': ['na',\n",
       "  'nx',\n",
       "  'm3',\n",
       "  'sa',\n",
       "  'sb',\n",
       "  'smt',\n",
       "  'nu',\n",
       "  'h',\n",
       "  'tb',\n",
       "  'ca',\n",
       "  'cx',\n",
       "  's0',\n",
       "  'psa-cth',\n",
       "  'efa',\n",
       "  'efx',\n",
       "  'eft'],\n",
       " 'bounds': [[0.0009235357594633189, 0.001020750049933142],\n",
       "  [7.293753699053587e-05, 8.061517246322386e-05],\n",
       "  [3.8261365657417485, 4.228887783188249],\n",
       "  [9.49349613586251, 10.492811518584878],\n",
       "  [0.19125795021113992, 0.21139036602283887],\n",
       "  [5.074762113419962, 5.608947599043117],\n",
       "  [0.0004673794389073191, 0.0005165772745817738],\n",
       "  [4.223526461991132, 4.668108194832304],\n",
       "  [3.371160365526062, 3.7260193513709114],\n",
       "  [0.0008903530174663654, 0.0009840743877259828],\n",
       "  [0.0003246256670250464, 0.0003587967898697882],\n",
       "  [38.91441313403289, 43.010667148141614],\n",
       "  [0.41738393582479616, 0.4613190869642484],\n",
       "  [1.8601496882428937e-05, 2.0559549185842514e-05],\n",
       "  [6.515053904880612e-05, 7.200849052762783e-05],\n",
       "  [1.4501981250338432, 1.602850559247932]]}"
      ]
     },
     "metadata": {},
     "output_type": "display_data"
    }
   ],
   "source": [
    "_v = pd.DataFrame({'min': pmin*(1-percentAround/100.), 'max': pmin*(1+percentAround/100.)})\n",
    "problem = {\n",
    "    'num_vars': 16,\n",
    "    'names': ['na', 'nx', 'm3', 'sa', \n",
    "              'sb', 'smt', 'nu', 'h', \n",
    "              'tb', 'ca', 'cx', 's0', \n",
    "              'psa-cth', 'efa', 'efx', 'eft'],\n",
    "    'bounds': _v.to_numpy().tolist()\n",
    "}\n",
    "\n",
    "del(_v)\n",
    "display(problem)"
   ]
  },
  {
   "cell_type": "markdown",
   "metadata": {},
   "source": [
    "*Run Saltelli sampler to form dot cloud*"
   ]
  },
  {
   "cell_type": "code",
   "execution_count": 11,
   "metadata": {},
   "outputs": [
    {
     "name": "stdout",
     "output_type": "stream",
     "text": [
      "Generate points:  3400\n"
     ]
    }
   ],
   "source": [
    "Xex = saltelli.sample(problem, saltelliDeep)\n",
    "_2save = pd.DataFrame(Xex)\n",
    "print( \"Generate points: \", _2save.shape[0] )\n",
    "_2save['16'] = np.nan\n",
    "_2save.to_csv('saltelli-%d-%d.csv' % (percentAround, saltelliDeep), index=True, na_rep='nan')"
   ]
  },
  {
   "cell_type": "markdown",
   "metadata": {},
   "source": [
    "### CSV file next was processed by solvecloud on a multicore high-performance machine\n",
    "1. Edit *solvecloud.py* and set proper filenames for input and output files\n",
    "2. Set *L1M_NTHREADS* as for optimizer run\n",
    "3. run *./solvecloud.py* in the *screen*"
   ]
  },
  {
   "cell_type": "code",
   "execution_count": 12,
   "metadata": {},
   "outputs": [],
   "source": [
    "Yex = pd.read_csv('values_sobol-%d-%d.txt' % (percentAround, saltelliDeep), names=['id', 'err'])\n",
    "Yex.index = Yex['id']\n",
    "Yex = Yex.iloc[:, 1:]"
   ]
  },
  {
   "cell_type": "markdown",
   "metadata": {},
   "source": [
    "**Analyze the sensitivity of the total square error to every parameter**"
   ]
  },
  {
   "cell_type": "code",
   "execution_count": 13,
   "metadata": {},
   "outputs": [
    {
     "name": "stdout",
     "output_type": "stream",
     "text": [
      "Parameter S1 S1_conf ST ST_conf\n",
      "na -0.000698 0.000854 0.000034 0.000050\n",
      "nx -0.000964 0.003035 0.000206 0.000189\n",
      "m3 0.003665 0.013364 0.005044 0.006985\n",
      "sa 0.157759 0.236276 0.452277 0.304335\n",
      "sb 0.182528 0.199262 0.711754 0.465926\n",
      "smt 0.002820 0.002775 0.000178 0.000192\n",
      "nu -0.000346 0.000588 0.000007 0.000008\n",
      "h 0.000287 0.003698 0.000148 0.000101\n",
      "tb 0.002510 0.010180 0.002551 0.003101\n",
      "ca 0.000759 0.004799 0.001167 0.001839\n",
      "cx 0.005134 0.008710 0.006483 0.009292\n",
      "s0 0.000934 0.004419 0.000719 0.000672\n",
      "psa-cth 0.041061 0.055154 0.484660 0.260200\n",
      "efa 0.000036 0.000308 0.000004 0.000005\n",
      "efx 0.000105 0.000329 0.000002 0.000002\n",
      "eft 0.000843 0.001929 0.000075 0.000080\n",
      "\n",
      "Parameter_1 Parameter_2 S2 S2_conf\n",
      "na nx 0.001383 0.001554\n",
      "na m3 0.001447 0.001645\n",
      "na sa 0.003503 0.004341\n",
      "na sb 0.001598 0.001837\n",
      "na smt 0.001397 0.001573\n",
      "na nu 0.001392 0.001579\n",
      "na h 0.001415 0.001603\n",
      "na tb 0.001428 0.001625\n",
      "na ca 0.001399 0.001581\n",
      "na cx 0.001477 0.001607\n",
      "na s0 0.001359 0.001561\n",
      "na psa-cth 0.000153 0.000915\n",
      "na efa 0.001392 0.001578\n",
      "na efx 0.001392 0.001578\n",
      "na eft 0.001396 0.001585\n",
      "nx m3 0.001291 0.004879\n",
      "nx sa 0.007992 0.015428\n",
      "nx sb 0.000627 0.004145\n",
      "nx smt 0.001419 0.004649\n",
      "nx nu 0.001382 0.004550\n",
      "nx h 0.001434 0.004644\n",
      "nx tb 0.001500 0.004741\n",
      "nx ca 0.001518 0.004641\n",
      "nx cx 0.001294 0.004643\n",
      "nx s0 0.001307 0.004496\n",
      "nx psa-cth 0.000097 0.003381\n",
      "nx efa 0.001363 0.004550\n",
      "nx efx 0.001364 0.004549\n",
      "nx eft 0.001386 0.004605\n",
      "m3 sa -0.003315 0.015130\n",
      "m3 sb -0.006022 0.015010\n",
      "m3 smt -0.005039 0.018896\n",
      "m3 nu -0.004887 0.018644\n",
      "m3 h -0.005063 0.018939\n",
      "m3 tb -0.004889 0.018709\n",
      "m3 ca -0.005192 0.018986\n",
      "m3 cx -0.004557 0.019612\n",
      "m3 s0 -0.005153 0.019175\n",
      "m3 psa-cth -0.004116 0.023531\n",
      "m3 efa -0.004921 0.018744\n",
      "m3 efx -0.004933 0.018731\n",
      "m3 eft -0.005124 0.018975\n",
      "sa sb -0.084473 0.294542\n",
      "sa smt -0.110509 0.260424\n",
      "sa nu -0.109319 0.257803\n",
      "sa h -0.109144 0.261112\n",
      "sa tb -0.114741 0.263649\n",
      "sa ca -0.107729 0.259616\n",
      "sa cx -0.109268 0.258226\n",
      "sa s0 -0.108067 0.256445\n",
      "sa psa-cth -0.042268 0.270359\n",
      "sa efa -0.109121 0.257808\n",
      "sa efx -0.109180 0.257821\n",
      "sa eft -0.108294 0.259819\n",
      "sb smt 0.162771 0.422161\n",
      "sb nu 0.167447 0.421969\n",
      "sb h 0.167778 0.419933\n",
      "sb tb 0.161535 0.417748\n",
      "sb ca 0.161735 0.419262\n",
      "sb cx 0.157865 0.425357\n",
      "sb s0 0.173291 0.426740\n",
      "sb psa-cth 0.298190 0.571718\n",
      "sb efa 0.167350 0.422108\n",
      "sb efx 0.167383 0.422111\n",
      "sb eft 0.169131 0.421440\n",
      "smt nu -0.002511 0.005210\n",
      "smt h -0.002600 0.005286\n",
      "smt tb -0.002481 0.005269\n",
      "smt ca -0.002614 0.005273\n",
      "smt cx -0.002570 0.005308\n",
      "smt s0 -0.002480 0.005235\n",
      "smt psa-cth -0.004047 0.004164\n",
      "smt efa -0.002519 0.005219\n",
      "smt efx -0.002522 0.005218\n",
      "smt eft -0.002594 0.005264\n",
      "nu h -0.000118 0.000620\n",
      "nu tb -0.000102 0.000618\n",
      "nu ca -0.000128 0.000634\n",
      "nu cx -0.000170 0.000640\n",
      "nu s0 -0.000087 0.000595\n",
      "nu psa-cth 0.000290 0.000438\n",
      "nu efa -0.000102 0.000612\n",
      "nu efx -0.000102 0.000612\n",
      "nu eft -0.000112 0.000613\n",
      "h tb 0.000448 0.006180\n",
      "h ca 0.000376 0.006188\n",
      "h cx 0.000585 0.006230\n",
      "h s0 0.000574 0.006097\n",
      "h psa-cth -0.000494 0.006339\n",
      "h efa 0.000629 0.006075\n",
      "h efx 0.000627 0.006074\n",
      "h eft 0.000513 0.006152\n",
      "tb ca 0.002557 0.012636\n",
      "tb cx 0.002692 0.012707\n",
      "tb s0 0.002341 0.012532\n",
      "tb psa-cth -0.004346 0.013076\n",
      "tb efa 0.002382 0.012634\n",
      "tb efx 0.002373 0.012641\n",
      "tb eft 0.002362 0.012635\n",
      "ca cx -0.006667 0.007513\n",
      "ca s0 -0.006274 0.007216\n",
      "ca psa-cth -0.004961 0.008034\n",
      "ca efa -0.006115 0.007250\n",
      "ca efx -0.006110 0.007252\n",
      "ca eft -0.006203 0.007315\n",
      "cx s0 -0.013311 0.012960\n",
      "cx psa-cth -0.016673 0.013765\n",
      "cx efa -0.013442 0.012867\n",
      "cx efx -0.013457 0.012850\n",
      "cx eft -0.013570 0.012855\n",
      "s0 psa-cth -0.002964 0.009136\n",
      "s0 efa 0.001528 0.007315\n",
      "s0 efx 0.001523 0.007314\n",
      "s0 eft 0.001460 0.007378\n",
      "psa-cth efa -0.004840 0.115203\n",
      "psa-cth efx -0.004732 0.115200\n",
      "psa-cth eft -0.004565 0.115832\n",
      "efa efx -0.000271 0.000475\n",
      "efa eft -0.000270 0.000476\n",
      "efx eft -0.000214 0.000508\n"
     ]
    }
   ],
   "source": [
    "Si = sobol.analyze(problem, Yex['err'].to_numpy(), print_to_console=True)"
   ]
  },
  {
   "cell_type": "markdown",
   "metadata": {},
   "source": [
    "**Extract notochord area (delta) and somite mesoderm from the LOG of cloudsolve**\n",
    "```\n",
    "$> grep Smad saltelli-5-100.log | awk '{ print substr($0, 17); }' > 'somite-saltelli-5-100.csv'\n",
    "$> grep Delta saltelli-5-100.log | awk '{ print substr($0, 17); }' > 'delta-saltelli-5-100.csv'\n",
    "```"
   ]
  },
  {
   "cell_type": "code",
   "execution_count": 14,
   "metadata": {},
   "outputs": [],
   "source": [
    "delta_data = pd.read_csv('delta-saltelli-5-100.csv', sep=' ', header=None)\n",
    "somite_data = pd.read_csv('somite-saltelli-5-100.csv', sep=' ', header=None)"
   ]
  },
  {
   "cell_type": "markdown",
   "metadata": {},
   "source": [
    "## Perform sensitivity analysis of parameter influence to both notochord and somite area under different conditions"
   ]
  },
  {
   "cell_type": "markdown",
   "metadata": {},
   "source": [
    "*Make labels for parameters*"
   ]
  },
  {
   "cell_type": "code",
   "execution_count": 15,
   "metadata": {},
   "outputs": [],
   "source": [
    "par_names = \\\n",
    "    \"$n_\\\\alpha$ $n_x$ $[MMP3]$ $s_a$ $s_b$ $[pSMAD]_{thr}$ $\\\\nu$\" + \\\n",
    "    \" $h$ $t_b$ $c_\\\\alpha$ $c_x$ $\\\\delta_{init}$ $(s_a-[pSMAD]_{smt})$ $f_\\\\alpha$ $f_x$ $[ENAF]_{thr}$\"\n",
    "cnames = par_names.split(' ')\n",
    "cond_names = \\\n",
    "    \"WT$_1$ 1/2 WT-N2 1/2-N2 WT$_2$ WT-M3 WT-M3-N2 WT$_3$ WT-Ch WT-Ch-N2\"\n",
    "rnames = cond_names.split(' ')\n",
    "del(par_names, cond_names)"
   ]
  },
  {
   "cell_type": "markdown",
   "metadata": {},
   "source": [
    "*Run Sobol GSA for every condition*"
   ]
  },
  {
   "cell_type": "code",
   "execution_count": 16,
   "metadata": {},
   "outputs": [],
   "source": [
    "s1_delta = pd.DataFrame(np.zeros((16,10)), index=cnames, columns=rnames)\n",
    "for i in range(delta_data.shape[1]):\n",
    "    Si = sobol.analyze(problem, delta_data.iloc[:,i].to_numpy(), conf_level=0.90, print_to_console=False)\n",
    "    s1_delta.iloc[:,i] = Si['ST']\n",
    "\n",
    "s1_somit = pd.DataFrame(np.zeros((16,10)), index=cnames, columns=rnames)\n",
    "for i in range(delta_data.shape[1]):\n",
    "    Si = sobol.analyze(problem, somite_data.iloc[:,i].to_numpy(), conf_level=0.90, print_to_console=False)\n",
    "    s1_somit.iloc[:,i] = Si['ST']"
   ]
  },
  {
   "cell_type": "markdown",
   "metadata": {},
   "source": [
    "*Reorder parameters*"
   ]
  },
  {
   "cell_type": "code",
   "execution_count": 17,
   "metadata": {},
   "outputs": [],
   "source": [
    "s1_delta = s1_delta.iloc[[0,1,9,10,3,4,5,12,6,7,2,8,13,14,15,11],:]\n",
    "s1_somit = s1_somit.iloc[[0,1,9,10,3,4,5,12,6,7,2,8,13,14,15,11],:]"
   ]
  },
  {
   "cell_type": "markdown",
   "metadata": {},
   "source": [
    "**Draw heatmaps**"
   ]
  },
  {
   "cell_type": "code",
   "execution_count": 18,
   "metadata": {},
   "outputs": [
    {
     "data": {
      "image/png": "[encoded data removed]",
      "text/plain": [
       "<Figure size 720x720 with 2 Axes>"
      ]
     },
     "metadata": {},
     "output_type": "display_data"
    }
   ],
   "source": [
    "sns.set(style='whitegrid', rc={\"grid.linewidth\": 0.1})\n",
    "sns.set_context(\"paper\", font_scale=1.5)  \n",
    "\n",
    "f = plt.figure(figsize=(10,10))\n",
    "g = sns.heatmap(s1_delta, figure=f).set_title('Sensitivity of the notochord area', fontsize=17)\n",
    "f.savefig('gsa-not.pdf')"
   ]
  },
  {
   "cell_type": "code",
   "execution_count": 19,
   "metadata": {},
   "outputs": [
    {
     "data": {
      "image/png": "[encoded data removed]",
      "text/plain": [
       "<Figure size 720x720 with 2 Axes>"
      ]
     },
     "metadata": {},
     "output_type": "display_data"
    }
   ],
   "source": [
    "f = plt.figure(figsize=(10,10))\n",
    "g = sns.heatmap(s1_somit, figure=f).set_title('Sensitivity of the somit area', fontsize=17)\n",
    "f.savefig('gsa-som.pdf')"
   ]
  }
 ],
 "metadata": {
  "kernelspec": {
   "display_name": "Python 3",
   "language": "python",
   "name": "python3"
  },
  "language_info": {
   "codemirror_mode": {
    "name": "ipython",
    "version": 3
   },
   "file_extension": ".py",
   "mimetype": "text/x-python",
   "name": "python",
   "nbconvert_exporter": "python",
   "pygments_lexer": "ipython3",
   "version": "3.8.2"
  }
 },
 "nbformat": 4,
 "nbformat_minor": 4
}
